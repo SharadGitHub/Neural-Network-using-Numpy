{
 "cells": [
  {
   "cell_type": "markdown",
   "metadata": {},
   "source": [
    "## Two hidden layer neural network"
   ]
  },
  {
   "cell_type": "code",
   "execution_count": 57,
   "metadata": {},
   "outputs": [],
   "source": [
    "import pandas as pd\n",
    "import numpy as np\n",
    "from random import seed\n",
    "from random import random\n",
    "from math import exp\n",
    "from sklearn.preprocessing import StandardScaler\n",
    "import matplotlib.pyplot as plt"
   ]
  },
  {
   "cell_type": "code",
   "execution_count": 28,
   "metadata": {},
   "outputs": [],
   "source": [
    "class layer:\n",
    "    \n",
    "    '''\n",
    "    This class represents a full connected layer which makes our ANN\n",
    "    Each layer will have its weights and bias\n",
    "\n",
    "    '''\n",
    "    def __init__(self,NumberOfNeurons, dimension_1, dimension_2):\n",
    "        range_value = np.sqrt(2/dimension_2)\n",
    "        self.weight = np.random.uniform(-range_value,range_value,(dimension_2,dimension_1))\n",
    "        #self.weight = np.random.randn(dimension_2, dimension_1)\n",
    "        self.bias = np.random.uniform(-range_value,range_value,(dimension_2, 1))"
   ]
  },
  {
   "cell_type": "code",
   "execution_count": 30,
   "metadata": {},
   "outputs": [],
   "source": [
    "class NeuralNet:\n",
    "    \n",
    "    def __init__(self):\n",
    "        \n",
    "        self.layer_1 = layer(2,2,5)\n",
    "        self.layer_2 = layer(5,5, 5)\n",
    "        self.layer_3 = layer(5, 5, 1)\n",
    "        \n",
    "    # Transfer neuron activation\n",
    "    def sigmoid(self, x):\n",
    "        return 1.0 / (1.0 + np.exp(-x))\n",
    "\n",
    "    # Calculate the derivative of an neuron output\n",
    "    def sigmoid_derivative(self, output):\n",
    "        return output * (1.0 - output)\n",
    "    \n",
    "    def forward_pass(self, data):\n",
    "        \n",
    "        cache = {}\n",
    "        \n",
    "        a_2 = self.sigmoid(np.dot(self.layer_1.weight, data.T))\n",
    "        a_3 = self.sigmoid(np.dot(self.layer_2.weight.T, a_2))\n",
    "        a_4 = self.sigmoid(np.dot(self.layer_3.weight, a_3))   # a_4 is the final layer output which is a row vector\n",
    "        \n",
    "        cache = {'a_2': a_2, 'a_3': a_3, 'a_4': a_4}\n",
    "        return a_4, cache\n",
    "    \n",
    "    def calculate_loss(self, Y_hat, Y):\n",
    "        # probs and labels must be row vectors\n",
    "        \n",
    "#         epsilon=1e-12\n",
    "#         probs = np.clip(probs, epsilon, 1.0 - epsilon)\n",
    "        \n",
    "#         loss = (labels * np.log(probs)) + ((1.0 - labels) * np.log(1.0 - probs))\n",
    "#         loss = - np.mean(loss)   \n",
    "        \n",
    "        m =  Y_hat.shape[0]\n",
    "        loss = -1/m * (np.dot(Y, np.log(Y_hat).T) + np.dot(1 - Y, np.log(1 - Y_hat).T))\n",
    "        return loss\n",
    "        \n",
    "        \n",
    "    def backward_pass(self, cache, labels, X):\n",
    "        batch_size = X.shape[0]\n",
    "        \n",
    "        intermediate = (cache['a_4'] - labels)\n",
    "        dW4 = np.dot(intermediate, cache['a_3'].T)\n",
    "        dW4 = dW4/ batch_size\n",
    "        \n",
    "        intermediate = np.dot((self.layer_3.weight).T , intermediate)\n",
    "        intermediate = intermediate * self.sigmoid_derivative(cache['a_3'])\n",
    "        dW3 = np.dot(intermediate, cache['a_2'].T)\n",
    "        dW3 = dW3 / batch_size\n",
    "        \n",
    "        intermediate = np.dot((self.layer_2.weight).T , intermediate)\n",
    "        intermediate = intermediate * self.sigmoid_derivative(cache['a_2'])\n",
    "        dW2 = np.dot(intermediate, X)\n",
    "        dW2 = dW2/ batch_size\n",
    "        \n",
    "        return {'dW4':dW4, 'dW3':dW3, 'dW2':dW2}"
   ]
  },
  {
   "cell_type": "code",
   "execution_count": 31,
   "metadata": {},
   "outputs": [],
   "source": [
    "# data = np.random.rand(2, 50)\n",
    "# labels = np.random.randint(0, 2, 50)\n",
    "# nn = NeuralNet()"
   ]
  },
  {
   "cell_type": "code",
   "execution_count": 89,
   "metadata": {},
   "outputs": [],
   "source": [
    "train_data = pd.read_csv('DWH_Training.csv', names= ['Height', 'Weight', 'Label'])\n",
    "test_data = pd.read_csv('DWH_test.csv',  names= ['Height', 'Weight', 'Label'])"
   ]
  },
  {
   "cell_type": "code",
   "execution_count": 90,
   "metadata": {},
   "outputs": [],
   "source": [
    "net = NeuralNet()"
   ]
  },
  {
   "cell_type": "code",
   "execution_count": 91,
   "metadata": {},
   "outputs": [],
   "source": [
    "net = NeuralNet()\n",
    "epochs = 500\n",
    "lr = 0.1\n",
    "losses = []\n",
    "for epoch in range(epochs):\n",
    "    \n",
    "    data, labels = np.array(train_data[['Height', 'Weight']]), np.array(train_data['Label'])\n",
    "    scaler = StandardScaler().fit(data)\n",
    "    data = scaler.transform(data)\n",
    "    \n",
    "    preds, cache = net.forward_pass(data)\n",
    "    loss = net.calculate_loss(preds, labels)\n",
    "    #print(preds)\n",
    "    #print(\"Loss \", loss)\n",
    "    losses.append(loss.item())\n",
    "    gradients = net.backward_pass(cache, labels, data)\n",
    "    \n",
    "    net.layer_1.weight -= lr * gradients['dW2']\n",
    "    net.layer_2.weight -= lr * gradients['dW3']\n",
    "    net.layer_3.weight -= lr * gradients['dW4']"
   ]
  },
  {
   "cell_type": "code",
   "execution_count": null,
   "metadata": {},
   "outputs": [],
   "source": []
  },
  {
   "cell_type": "code",
   "execution_count": 84,
   "metadata": {},
   "outputs": [
    {
     "data": {
      "image/png": "[encoded data removed]",
      "text/plain": [
       "<Figure size 432x288 with 1 Axes>"
      ]
     },
     "metadata": {
      "needs_background": "light"
     },
     "output_type": "display_data"
    }
   ],
   "source": [
    "plt.plot(losses)\n",
    "title = plt.title(\"Training error\")"
   ]
  },
  {
   "cell_type": "code",
   "execution_count": null,
   "metadata": {},
   "outputs": [],
   "source": []
  },
  {
   "cell_type": "code",
   "execution_count": null,
   "metadata": {},
   "outputs": [],
   "source": []
  },
  {
   "cell_type": "code",
   "execution_count": null,
   "metadata": {},
   "outputs": [],
   "source": []
  }
 ],
 "metadata": {
  "kernelspec": {
   "display_name": "Python 3",
   "language": "python",
   "name": "python3"
  },
  "language_info": {
   "codemirror_mode": {
    "name": "ipython",
    "version": 3
   },
   "file_extension": ".py",
   "mimetype": "text/x-python",
   "name": "python",
   "nbconvert_exporter": "python",
   "pygments_lexer": "ipython3",
   "version": "3.7.0"
  }
 },
 "nbformat": 4,
 "nbformat_minor": 2
}
