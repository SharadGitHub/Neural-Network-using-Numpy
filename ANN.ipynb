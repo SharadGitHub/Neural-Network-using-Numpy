{
 "cells": [
  {
   "cell_type": "markdown",
   "metadata": {},
   "source": [
    "## Two hidden layer neural network"
   ]
  },
  {
   "cell_type": "code",
   "execution_count": 1,
   "metadata": {},
   "outputs": [],
   "source": [
    "import pandas as pd\n",
    "import numpy as np\n",
    "from random import seed\n",
    "from random import random\n",
    "from math import exp\n",
    "from sklearn.preprocessing import StandardScaler\n",
    "import matplotlib.pyplot as plt"
   ]
  },
  {
   "cell_type": "code",
   "execution_count": 27,
   "metadata": {},
   "outputs": [],
   "source": [
    "class layer:\n",
    "    \n",
    "    '''\n",
    "    This class represents a full connected layer which makes our ANN\n",
    "    Each layer will have its weights and bias\n",
    "\n",
    "    '''\n",
    "    def __init__(self,NumberOfNeurons, dimension_1, dimension_2):\n",
    "        range_value = np.sqrt(2/dimension_2)\n",
    "        #self.weight = np.random.uniform(-range_value,range_value,(dimension_2,dimension_1))\n",
    "        self.weight = np.random.randn(dimension_2, dimension_1) * np.sqrt(1/dimension_1)\n",
    "        self.bias = np.random.uniform(-range_value,range_value,(dimension_2, 1))\n",
    "        self.weight_gradient = None\n",
    "        self.bias_gradient = None"
   ]
  },
  {
   "cell_type": "code",
   "execution_count": 28,
   "metadata": {},
   "outputs": [],
   "source": [
    "class NeuralNet:\n",
    "    \n",
    "    def __init__(self):\n",
    "        \n",
    "        self.layers = []\n",
    "        self.layers.append(layer(2,2,5))\n",
    "        self.layers.append(layer(5,5, 5))\n",
    "        self.layers.append(layer(5, 5, 1))\n",
    "        \n",
    "    # Transfer neuron activation\n",
    "    def sigmoid(self, x):\n",
    "        return 1.0 / (1.0 + np.exp(-x))\n",
    "\n",
    "    # Calculate the derivative of an neuron output\n",
    "    def sigmoid_derivative(self, output):\n",
    "        return output * (1.0 - output)\n",
    "    \n",
    "    def loss_derivative(self, preds, labels):\n",
    "        derivative = -(np.divide(labels,preds) - np.divide((1-labels),(1-preds)))\n",
    "        return derivative\n",
    "        \n",
    "    def forward_pass(self, data):\n",
    "        \n",
    "        cache = []\n",
    "        \n",
    "        a_2 = self.sigmoid(np.dot(self.layers[0].weight, data) + self.layers[0].bias)\n",
    "        a_3 = self.sigmoid(np.dot(self.layers[1].weight, a_2) + self.layers[1].bias)\n",
    "        a_4 = self.sigmoid(np.dot(self.layers[2].weight, a_3) + self.layers[2].bias)   # a_4 is the final layer output which is a row vector\n",
    "        \n",
    "        cache.append(a_4)\n",
    "        cache.append(a_3)\n",
    "        cache.append(a_2)\n",
    "        cache.append(data)\n",
    "        return a_4, cache\n",
    "    \n",
    "    def calculate_loss(self, Y_hat, Y):\n",
    "        # probs and labels must be row vectors\n",
    "        \n",
    "        #epsilon = 1e-12\n",
    "        #Y_hat = np.clip(Y_hat, epsilon, 1.0 - epsilon)\n",
    "        \n",
    "#         loss = (labels * np.log(probs)) + ((1.0 - labels) * np.log(1.0 - probs))\n",
    "#         loss = - np.mean(loss)   \n",
    "        \n",
    "        m =  Y_hat.shape[0]\n",
    "        loss = -1/m * (np.dot(Y, np.log(Y_hat).T) + np.dot(1 - Y, np.log(1 - Y_hat).T))\n",
    "        return loss\n",
    "        \n",
    "        \n",
    "    def backward_pass(self, cache, preds, labels, X):\n",
    "        batch_size = X.shape[0]\n",
    "        \n",
    "        error = loss_derivative(preds, labels)\n",
    "        for layer in reversed(self.layers):\n",
    "            delta = error * self.sigmoid_derivative(cache.pop(0))\n",
    "            weight_gradient = np.dot(delta, cache[0].T) / batch_size\n",
    "            bias_gradient =  np.sum(delta,axis=1,keepdims=True) / batch_size\n",
    "            layer.weight_gradient = weight_gradient\n",
    "            layer.bias_gradient = bias_gradient\n",
    "    \n",
    "    \n",
    "    "
   ]
  },
  {
   "cell_type": "code",
   "execution_count": 241,
   "metadata": {},
   "outputs": [],
   "source": [
    "# data = np.random.rand(2, 50)\n",
    "# labels = np.random.randint(0, 2, 50)\n",
    "# nn = NeuralNet()"
   ]
  },
  {
   "cell_type": "code",
   "execution_count": 258,
   "metadata": {},
   "outputs": [],
   "source": [
    "train_data = pd.read_csv('DWH_Training.csv', names= ['Height', 'Weight', 'Label'])\n",
    "test_data = pd.read_csv('DWH_test.csv',  names= ['Height', 'Weight', 'Label', 'Irrelevant'])"
   ]
  },
  {
   "cell_type": "code",
   "execution_count": 29,
   "metadata": {},
   "outputs": [],
   "source": [
    "net = NeuralNet()"
   ]
  },
  {
   "cell_type": "code",
   "execution_count": 259,
   "metadata": {},
   "outputs": [],
   "source": [
    "net = NeuralNet()\n",
    "epochs = 2000\n",
    "lr = 0.001\n",
    "losses = []\n",
    "\n",
    "data, labels = np.array(train_data[['Height', 'Weight']]), np.array(train_data['Label'])\n",
    "labels = np.asarray(list(map(lambda x: 0 if x == -1 else 1.0, labels)))\n",
    "scaler = StandardScaler().fit(data)\n",
    "data = scaler.transform(data)\n",
    "    \n",
    "    \n",
    "for epoch in range(epochs):\n",
    "    data, labels = np.array(train_data[['Height', 'Weight']]), np.array(train_data['Label'])\n",
    "    labels = np.asarray(list(map(lambda x: 0 if x == -1 else 1.0, labels)))\n",
    "    scaler = StandardScaler().fit(data)\n",
    "    data = scaler.transform(data)\n",
    "    \n",
    "    preds, cache = net.forward_pass(data)\n",
    "    loss = net.calculate_loss(preds, labels)\n",
    "    #print(preds)\n",
    "    #print(\"Loss \", loss)\n",
    "    losses.append(loss.item())\n",
    "    gradients = net.backward_pass(cache, labels, data)\n",
    "    \n",
    "    for layer in net.layers:\n",
    "        layer \n",
    "    net.layer_1.weight -= lr * gradients['dW2']\n",
    "    net.layer_2.weight -= lr * gradients['dW3']\n",
    "    net.layer_3.weight -= lr * gradients['dW4']"
   ]
  },
  {
   "cell_type": "code",
   "execution_count": null,
   "metadata": {},
   "outputs": [],
   "source": []
  },
  {
   "cell_type": "code",
   "execution_count": null,
   "metadata": {},
   "outputs": [],
   "source": [
    "\n"
   ]
  },
  {
   "cell_type": "code",
   "execution_count": 260,
   "metadata": {},
   "outputs": [
    {
     "data": {
      "image/png": "[encoded data removed]",
      "text/plain": [
       "<Figure size 432x288 with 1 Axes>"
      ]
     },
     "metadata": {
      "needs_background": "light"
     },
     "output_type": "display_data"
    }
   ],
   "source": [
    "plt.plot(losses)\n",
    "title = plt.title(\"Training error\")"
   ]
  },
  {
   "cell_type": "code",
   "execution_count": 262,
   "metadata": {},
   "outputs": [],
   "source": [
    "test_labels = np.array(test_data['Label'])\n",
    "test_data = np.array(test_data[['Height', 'Weight']])\n",
    "test_labels = np.asarray(list(map(lambda x: 0 if x == -1 else 1.0, test_labels)))"
   ]
  },
  {
   "cell_type": "code",
   "execution_count": 263,
   "metadata": {},
   "outputs": [],
   "source": [
    "preds, _ = net.forward_pass(test_data)"
   ]
  },
  {
   "cell_type": "code",
   "execution_count": 264,
   "metadata": {},
   "outputs": [
    {
     "data": {
      "text/plain": [
       "array([[0.00527187, 0.00527187, 0.00527187, 0.00527187, 0.00527187,\n",
       "        0.00527187, 0.00527187, 0.00527187, 0.00527187, 0.00527187,\n",
       "        0.00527187, 0.00527187, 0.00527187, 0.00527187, 0.00527187,\n",
       "        0.00527187, 0.00527187, 0.00527187, 0.00527187, 0.00527187,\n",
       "        0.00527187, 0.00527187, 0.00527187, 0.00527187, 0.00527187,\n",
       "        0.00527187, 0.00527187, 0.00527187, 0.00527187, 0.00527187,\n",
       "        0.00527187, 0.00527187, 0.00527187, 0.00527187, 0.00527187,\n",
       "        0.00527187, 0.00527187, 0.00527187, 0.00527187, 0.00527187,\n",
       "        0.00527187, 0.00527187, 0.00527187, 0.00527187, 0.00527187]])"
      ]
     },
     "execution_count": 264,
     "metadata": {},
     "output_type": "execute_result"
    }
   ],
   "source": [
    "preds"
   ]
  },
  {
   "cell_type": "code",
   "execution_count": 32,
   "metadata": {},
   "outputs": [
    {
     "name": "stdout",
     "output_type": "stream",
     "text": [
      "(5, 1)\n",
      "(5, 1)\n",
      "(1, 1)\n"
     ]
    }
   ],
   "source": [
    "for layer in net.layers:\n",
    "    print(np.shape(layer.bias))\n"
   ]
  }
 ],
 "metadata": {
  "kernelspec": {
   "display_name": "Python 3",
   "language": "python",
   "name": "python3"
  },
  "language_info": {
   "codemirror_mode": {
    "name": "ipython",
    "version": 3
   },
   "file_extension": ".py",
   "mimetype": "text/x-python",
   "name": "python",
   "nbconvert_exporter": "python",
   "pygments_lexer": "ipython3",
   "version": "3.7.0"
  }
 },
 "nbformat": 4,
 "nbformat_minor": 2
}
